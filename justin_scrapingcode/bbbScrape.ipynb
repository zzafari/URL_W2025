{
 "cells": [
  {
   "cell_type": "code",
   "execution_count": null,
   "metadata": {},
   "outputs": [],
   "source": [
    "#import\n",
    "from selenium import webdriver\n",
    "import time\n",
    "import csv\n",
    "import re\n",
    "import pandas as pd"
   ]
  },
  {
   "cell_type": "code",
   "execution_count": null,
   "metadata": {},
   "outputs": [],
   "source": [
    "#setup\n",
    "abbreviations = [\n",
    "    \"AK\", \"AL\", \"AR\", \"AZ\", \"CA\", \"CO\", \"CT\", \"DE\", \"FL\", \"GA\", \"HI\", \"IA\",\n",
    "    \"ID\", \"IL\", \"IN\", \"KS\", \"KY\", \"LA\", \"MA\", \"MD\", \"ME\", \"MI\", \"MN\", \"MO\",\n",
    "    \"MS\", \"MT\", \"NC\", \"ND\", \"NE\", \"NH\", \"NJ\", \"NM\", \"NV\", \"NY\", \"OH\", \"OK\",\n",
    "    \"OR\", \"PA\", \"RI\", \"SC\", \"SD\", \"TN\", \"TX\", \"UT\", \"VA\", \"VT\", \"WA\", \"WI\",\n",
    "    \"WV\", \"WY\",\"DC\"\n",
    "]\n",
    "driver = webdriver.Chrome()\n",
    "df = pd.DataFrame(columns=['Name', 'Address', 'Phone Number', 'Rating', 'URL'])\n",
    "f = open('output.txt', 'w+')"
   ]
  },
  {
   "cell_type": "code",
   "execution_count": null,
   "metadata": {},
   "outputs": [
    {
     "name": "stdout",
     "output_type": "stream",
     "text": [
      "AK1\n",
      "AL1\n",
      "AL2\n",
      "AL3\n",
      "AL4\n",
      "AL5\n",
      "AL6\n",
      "AL7\n",
      "AL8\n",
      "AL9\n",
      "AL10\n",
      "AL11\n",
      "AL12\n",
      "AL13\n",
      "AL14\n",
      "AL15\n",
      "AR1\n"
     ]
    }
   ],
   "source": [
    "#main loop to go through each page filtered by state to get as much info as possible\n",
    "\n",
    "for abr in abbreviations:\n",
    "    for i in range(1,16):\n",
    "        pageUrl = 'https://www.bbb.org/search?filter_state=' + abr + '&find_country=USA&find_entity=25049-000&find_id=2302_6200-3600&find_text=Payday%20Loans&find_type=Category&page=' + str(i)\n",
    "        driver.get(pageUrl)\n",
    "        time.sleep(5)\n",
    "        text = driver.page_source\n",
    "        rows = re.findall(r'<div class=\"card result-card\">(?:.|\\n)*?</div></div></div></div>', text)\n",
    "        if len(rows) == 0:\n",
    "            break\n",
    "        for row in rows:\n",
    "            url = 'null'\n",
    "            name = 'null'\n",
    "            address = 'null'\n",
    "            phoneNumber = 'null'\n",
    "            bbbRating = 'null'\n",
    "            try:\n",
    "                #print(row)\n",
    "                url = re.findall(r'href=\"(?:.|\\n)*?\">',row)[0][6:-2]\n",
    "                name = re.findall(r'<span(?:.|\\n)*?</span></a></h3>',row)[0]\n",
    "                name = re.findall(r'\">(?:.|\\n)*?</span>',name)[0][2:-7]\n",
    "                bbbRating = re.findall(r'BBB Rating: (?:.|\\n)*?</span>',row)[0][12:-7]\n",
    "                if len(bbbRating) > 2:\n",
    "                    bbbRating = bbbRating[0:2]\n",
    "                phoneNumber = re.findall(r'tel:(?:.|\\n)*?\"',row)[0][4:-1]\n",
    "                address = re.findall(r'<p class=\"bds-body text-size-5 text-gray-70\"(?:.|\\n)*?</p>',row)[0]\n",
    "                lines = re.findall(r'>(?:.|\\n)*?<',address)\n",
    "                if len(lines) == 7:\n",
    "                    line1 = lines[0][1:-1]\n",
    "                    line2 = lines[3][2:-1]\n",
    "                    line3 = lines[5][1:-1]\n",
    "                    address = line1 + \" \" + line2 + \" \" + line3\n",
    "                elif len(lines) == 4:\n",
    "                    line2 = lines[0][2:-1]\n",
    "                    line3 = lines[2][1:-1]\n",
    "                    address = line2 + \" \" + line3\n",
    "                elif len(lines) == 2:\n",
    "                    address = lines[0][1:-1]\n",
    "                else:\n",
    "                    address = \"no address??\"\n",
    "                df.loc[len(df)] = [name, address, phoneNumber, bbbRating, url]\n",
    "            except:\n",
    "                f.write('ERR: ' + abr + str(i) + '\\n')\n",
    "                f.write('Current DF Size: ' + str(len(df)) + '\\n')\n",
    "                print('ERR: ' + abr + str(i))\n",
    "                print('Current DF Size: ' + str(len(df)))\n",
    "        print(abr + str(i))\n",
    "        f.write(abr + str(i) + '\\n')"
   ]
  },
  {
   "cell_type": "code",
   "execution_count": null,
   "metadata": {},
   "outputs": [],
   "source": [
    "#export scrape to csv\n",
    "\n",
    "f.close()\n",
    "df.to_csv('bbbScrape.csv')"
   ]
  }
 ],
 "metadata": {
  "kernelspec": {
   "display_name": "Python 3",
   "language": "python",
   "name": "python3"
  },
  "language_info": {
   "codemirror_mode": {
    "name": "ipython",
    "version": 3
   },
   "file_extension": ".py",
   "mimetype": "text/x-python",
   "name": "python",
   "nbconvert_exporter": "python",
   "pygments_lexer": "ipython3",
   "version": "3.12.6"
  }
 },
 "nbformat": 4,
 "nbformat_minor": 2
}
