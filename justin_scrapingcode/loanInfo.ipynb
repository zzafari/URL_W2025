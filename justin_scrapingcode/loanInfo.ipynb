{
  "nbformat": 4,
  "nbformat_minor": 0,
  "metadata": {
    "colab": {
      "provenance": []
    },
    "kernelspec": {
      "name": "python3",
      "display_name": "Python 3"
    },
    "language_info": {
      "name": "python"
    }
  },
  "cells": [
    {
      "cell_type": "code",
      "source": [
        "import pandas as pd\n",
        "import re"
      ],
      "metadata": {
        "id": "AJeljsNTqg67"
      },
      "execution_count": 102,
      "outputs": []
    },
    {
      "cell_type": "code",
      "source": [
        "#read in html code from webpage\n",
        "with open('webpage.txt', 'r') as file:\n",
        "    text = file.read()"
      ],
      "metadata": {
        "id": "qhX2_nPTWSgj"
      },
      "execution_count": 103,
      "outputs": []
    },
    {
      "cell_type": "code",
      "source": [
        "#searches through and gets the content from each row in the table\n",
        "rows = re.findall(r'<tr>(?:.|\\n)*?</tr>', text)\n",
        "len(rows)"
      ],
      "metadata": {
        "colab": {
          "base_uri": "https://localhost:8080/"
        },
        "id": "j9gKoWuOqCh7",
        "outputId": "6fc49a91-2de9-443f-d06c-5682d298bc89"
      },
      "execution_count": 104,
      "outputs": [
        {
          "output_type": "execute_result",
          "data": {
            "text/plain": [
              "5610"
            ]
          },
          "metadata": {},
          "execution_count": 104
        }
      ]
    },
    {
      "cell_type": "code",
      "source": [
        "df = pd.DataFrame(columns=['Name', 'Address', 'Phone Number', 'Hours', 'Rating', 'Number of Reviews'])"
      ],
      "metadata": {
        "id": "x67Hivb_qwIz"
      },
      "execution_count": 105,
      "outputs": []
    },
    {
      "cell_type": "code",
      "source": [
        "for row in rows:\n",
        "  datas = re.findall(r'<td(?:.|\\n)*?</td>', row)\n",
        "  #first data contains number of stars/ratings\n",
        "  ratingsInfo = datas[0]\n",
        "  ratingAverage = re.findall(r'(?<=<div class=\"font-weight-semi-bold\">)(?:.|\\n)*?(?=</div>)', ratingsInfo)[0]\n",
        "  numReview = re.findall(r'(?<=<div class=\"pt-1 text-secondary small\">)(?:.|\\n)*?(?=</div>)', ratingsInfo)[0]\n",
        "  numReview = re.findall(r'\\d+', numReview)[0]\n",
        "\n",
        "  #second data contains information about business\n",
        "  businessInfo = datas[1]\n",
        "  divs = re.findall(r'<div(?:.|\\n)*?</div>', businessInfo)\n",
        "  #div0 has name\n",
        "  name = re.findall(r'(?<=<span class=\"font-weight-semi-bold mr-2\">)(?:.|\\n)*?(?=</span>)', divs[0])[0]\n",
        "  name = name[29:]\n",
        "  name = name[:-24]\n",
        "\n",
        "  #contains Name, Address, Phone Number\n",
        "  info = re.findall(r'(?<=data-search=\")(?:.|\\n)*?(?=\">)', businessInfo)[0]\n",
        "  phoneNumber = info[-12:]\n",
        "  address = info[len(name)+1:-13]\n",
        "  if len(divs) < 12:\n",
        "    #print(address)\n",
        "    hours = \"closed\"\n",
        "  else:\n",
        "    hours = \"open\"\n",
        "  df.loc[len(df)] = [name, address, phoneNumber, hours, ratingAverage, numReview]"
      ],
      "metadata": {
        "id": "Kp2z4sYLuwCH"
      },
      "execution_count": 107,
      "outputs": []
    },
    {
      "cell_type": "code",
      "source": [
        "df.shape"
      ],
      "metadata": {
        "colab": {
          "base_uri": "https://localhost:8080/"
        },
        "id": "U3Edbf3dv8yR",
        "outputId": "2afb4a3f-8de7-4afb-ace8-9e635c486196"
      },
      "execution_count": 108,
      "outputs": [
        {
          "output_type": "execute_result",
          "data": {
            "text/plain": [
              "(5610, 6)"
            ]
          },
          "metadata": {},
          "execution_count": 108
        }
      ]
    },
    {
      "cell_type": "code",
      "source": [
        "df.to_csv('loanInfo.csv')"
      ],
      "metadata": {
        "id": "mWmdHfoJ0bAx"
      },
      "execution_count": 109,
      "outputs": []
    }
  ]
}