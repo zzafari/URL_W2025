{
 "cells": [
  {
   "cell_type": "code",
   "execution_count": null,
   "metadata": {},
   "outputs": [],
   "source": [
    "#Payday Loan Lender List Website: https://www.ustatesloans.org\n",
    "#Payday Loan Laws and Acts per State \n"
   ]
  },
  {
   "cell_type": "code",
   "execution_count": 6,
   "metadata": {},
   "outputs": [
    {
     "name": "stdout",
     "output_type": "stream",
     "text": [
      "Data successfully scraped and saved to 'payday_loans_data.xlsx'.\n"
     ]
    }
   ],
   "source": [
    "import requests\n",
    "from bs4 import BeautifulSoup\n",
    "import pandas as pd\n",
    "\n",
    "# URL of the webpage\n",
    "url = \"https://www.ustatesloans.org/info/pdl-laws-and-acts/\"\n",
    "\n",
    "# Send a GET request to the URL\n",
    "response = requests.get(url)\n",
    "\n",
    "if response.status_code == 200:\n",
    "    # Parse the HTML content \n",
    "    soup = BeautifulSoup(response.text, 'html.parser')\n",
    "\n",
    "    # Locate the table \n",
    "    table = soup.find(\"table\")\n",
    "    if table is None:\n",
    "        raise ValueError(\"No table found on the webpage. Please check the URL or the table structure.\")\n",
    "\n",
    "    # Extract table \n",
    "    data = []\n",
    "    rows = table.find_all(\"tr\")\n",
    "    for row in rows:\n",
    "        cols = row.find_all(\"td\")  # Get columns from each row\n",
    "        cols = [col.text.strip() for col in cols]  # Clean text\n",
    "        if cols:  # Only add non-empty rows\n",
    "            data.append(cols)\n",
    "\n",
    "    # headers \n",
    "    headers = [\"State\", \"Regulation\", \"Loan Amount (Max)\", \"Loan Term (Max)\", \"APR\", \"Charges\"]\n",
    "\n",
    "    # Check data consistency\n",
    "    if data and len(data[0]) != len(headers):\n",
    "        raise ValueError(\"Mismatch between number of columns in the data and the headers. Verify the structure.\")\n",
    "\n",
    "    # Create a DataFrame\n",
    "    df = pd.DataFrame(data, columns=headers)\n",
    "    \n",
    "    # Save to an Excel file\n",
    "    df.to_excel(\"payday_loans_data.xlsx\", index=False)\n",
    "    print(\"Data successfully scraped and saved to 'payday_loans_data.xlsx'.\")\n",
    "else:\n",
    "    print(f\"Failed to get the webpage. Status code: {response.status_code}\")\n",
    "\n",
    "\n"
   ]
  }
 ],
 "metadata": {
  "kernelspec": {
   "display_name": ".venv",
   "language": "python",
   "name": "python3"
  },
  "language_info": {
   "codemirror_mode": {
    "name": "ipython",
    "version": 3
   },
   "file_extension": ".py",
   "mimetype": "text/x-python",
   "name": "python",
   "nbconvert_exporter": "python",
   "pygments_lexer": "ipython3",
   "version": "3.12.4"
  }
 },
 "nbformat": 4,
 "nbformat_minor": 2
}
