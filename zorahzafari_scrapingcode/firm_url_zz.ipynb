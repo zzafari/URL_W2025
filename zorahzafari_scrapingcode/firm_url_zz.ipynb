{
 "cells": [
  {
   "cell_type": "markdown",
   "id": "6767eb3f-9b71-45d7-8112-ab5f24089360",
   "metadata": {
    "tags": []
   },
   "source": [
    "## Author: Zorah Zafari \n",
    "## Date: Jan 17, 2025\n",
    "\n",
    "\n",
    "\n",
    "\n",
    "#### I am trying to scrape the web links for the payday loan firms listed on this website. There are 15 pages and the code should loop through the page and print the URLS listed on each page here.\n",
    "\n",
    "#### https://www.bbb.org/us/category/payday-loans?page=1\n",
    "\n",
    "#### The issue is that everytime you reload the page, the urls change. There are 7,000 firms that populate but about 200-ish are listed on the 15 pages and there is no way to know if one firm is going to printed twice. \n",
    "\n"
   ]
  },
  {
   "cell_type": "code",
   "execution_count": 2,
   "id": "a008d208-51b5-43fd-8330-5f944dc1411a",
   "metadata": {
    "collapsed": true,
    "jupyter": {
     "outputs_hidden": true
    },
    "tags": []
   },
   "outputs": [
    {
     "name": "stdout",
     "output_type": "stream",
     "text": [
      "Accessing page: https://www.bbb.org/us/category/payday-loans?page=1\n"
     ]
    },
    {
     "name": "stdout",
     "output_type": "stream",
     "text": [
      "If prompted, please solve the CAPTCHA and press Enter to continue... \n"
     ]
    },
    {
     "name": "stdout",
     "output_type": "stream",
     "text": [
      "Found URL: https://www.bbb.org/us/wi/wausau/profile/payday-loans/xpress-cash-0694-44153054\n",
      "Found URL: https://www.bbb.org/us/wi/wausau/profile/payday-loans/xpress-cash-0694-44153054\n",
      "Found URL: https://www.bbb.org/us/wi/madison/profile/payday-loans/solomon-finance-inc-0694-44254104\n",
      "Found URL: https://www.bbb.org/us/wi/marshfield/profile/payday-loans/check-advance-0694-44261229\n",
      "Found URL: https://www.bbb.org/us/wi/appleton/profile/payday-loans/mister-money-usa-of-appleton-0694-25003191\n",
      "Found URL: https://www.bbb.org/us/il/naperville/profile/payday-loans/bizcap-funding-0654-88650321\n",
      "Found URL: https://www.bbb.org/us/il/oak-park/profile/loans/americas-financial-choice-inc-0654-88704524\n",
      "Found URL: https://www.bbb.org/us/il/elgin/profile/loans/cmk-investments-inc-0654-88019672\n",
      "Found URL: https://www.bbb.org/us/il/elgin/profile/loans/cmk-investments-inc-0654-88019672\n",
      "Found URL: https://www.bbb.org/us/il/elgin/profile/loans/cmk-investments-inc-0654-88019672\n",
      "Found URL: https://www.bbb.org/us/il/elgin/profile/loans/cmk-investments-inc-0654-88019672\n",
      "Found URL: https://www.bbb.org/us/il/elgin/profile/loans/cmk-investments-inc-0654-88019672\n",
      "Found URL: https://www.bbb.org/us/il/elgin/profile/loans/cmk-investments-inc-0654-88019672\n",
      "Found URL: https://www.bbb.org/us/wi/west-allis/profile/payday-loans/lendnation-0694-1000013561\n",
      "Found URL: https://www.bbb.org/us/il/round-lake-beach/profile/payday-loans/rw1-investments-llc-0654-88498528\n",
      "Accessing page: https://www.bbb.org/us/category/payday-loans?page=2\n"
     ]
    },
    {
     "name": "stdout",
     "output_type": "stream",
     "text": [
      "If prompted, please solve the CAPTCHA and press Enter to continue... \n"
     ]
    },
    {
     "name": "stdout",
     "output_type": "stream",
     "text": [
      "Found URL: https://www.bbb.org/us/ms/meridian/profile/payday-loans/pls-loan-store-0523-235827632\n",
      "Found URL: https://www.bbb.org/us/fl/jacksonville/profile/payday-loans/fast-pay-day-loan-0403-235968508\n",
      "Found URL: https://www.bbb.org/us/ny/new-york/profile/advance-fee-brokers/westmore-financial-group-0121-158443\n",
      "Found URL: https://www.bbb.org/us/or/newberg/profile/payday-loans/miraloans-1296-90002302\n",
      "Found URL: https://www.bbb.org/us/ok/hugo/profile/payday-loans/advance-oklahoma-0995-90043670\n",
      "Found URL: https://www.bbb.org/us/ny/new-york/profile/advance-fee-brokers/fast-pay-day-loan-0121-157834\n",
      "Found URL: https://www.bbb.org/us/fl/tallahassee/profile/payday-loans/fast-payday-loans-0403-235969321\n",
      "Found URL: https://www.bbb.org/us/ny/new-york/profile/advance-fee-brokers/easy-payday-loan-0121-161281\n",
      "Found URL: https://www.bbb.org/us/wa/wenatchee/profile/check-cashing-services/apple-valley-check-cashing-1296-11003678\n",
      "Found URL: https://www.bbb.org/us/wa/spokane-valley/profile/check-cashing-services/american-micro-loan-llc-1296-11006090\n",
      "Found URL: https://www.bbb.org/us/wa/spokane-valley/profile/check-cashing-services/american-micro-loan-llc-1296-11006090\n",
      "Found URL: https://www.bbb.org/us/id/moscow/profile/title-loans/easy-choice-title-loan-llc-1296-25000036\n",
      "Found URL: https://www.bbb.org/us/wa/richland/profile/credit-union/hapo-community-credit-union-1296-59000295\n",
      "Found URL: https://www.bbb.org/us/wa/richland/profile/credit-union/hapo-community-credit-union-1296-59000295\n",
      "Found URL: https://www.bbb.org/us/wa/richland/profile/credit-union/hapo-community-credit-union-1296-59000295\n",
      "Accessing page: https://www.bbb.org/us/category/payday-loans?page=3\n"
     ]
    },
    {
     "name": "stdout",
     "output_type": "stream",
     "text": [
      "If prompted, please solve the CAPTCHA and press Enter to continue... \n"
     ]
    },
    {
     "name": "stdout",
     "output_type": "stream",
     "text": [
      "Found URL: https://www.bbb.org/us/wa/renton/profile/payday-loans/moneytree-inc-1296-1000022624\n",
      "Found URL: https://www.bbb.org/us/wa/renton/profile/payday-loans/moneytree-inc-1296-1000022624\n",
      "Found URL: https://www.bbb.org/us/wa/renton/profile/payday-loans/moneytree-inc-1296-1000022624\n",
      "Found URL: https://www.bbb.org/us/wa/renton/profile/payday-loans/moneytree-inc-1296-1000022624\n",
      "Found URL: https://www.bbb.org/us/wa/renton/profile/payday-loans/moneytree-inc-1296-1000022624\n",
      "Found URL: https://www.bbb.org/us/wa/renton/profile/payday-loans/moneytree-inc-1296-1000022624\n",
      "Found URL: https://www.bbb.org/us/wa/renton/profile/payday-loans/moneytree-inc-1296-1000022624\n",
      "Found URL: https://www.bbb.org/us/wa/renton/profile/payday-loans/moneytree-inc-1296-1000022624\n",
      "Found URL: https://www.bbb.org/us/wa/renton/profile/payday-loans/moneytree-inc-1296-1000022624\n",
      "Found URL: https://www.bbb.org/us/wa/renton/profile/payday-loans/moneytree-inc-1296-1000022624\n",
      "Found URL: https://www.bbb.org/us/wa/renton/profile/payday-loans/moneytree-inc-1296-1000022624\n",
      "Found URL: https://www.bbb.org/us/wa/renton/profile/payday-loans/moneytree-inc-1296-1000022624\n",
      "Found URL: https://www.bbb.org/us/wa/renton/profile/payday-loans/moneytree-inc-1296-1000022624\n",
      "Found URL: https://www.bbb.org/us/wa/renton/profile/payday-loans/moneytree-inc-1296-1000022624\n",
      "Found URL: https://www.bbb.org/us/wa/renton/profile/payday-loans/moneytree-inc-1296-1000022624\n",
      "Accessing page: https://www.bbb.org/us/category/payday-loans?page=4\n"
     ]
    },
    {
     "name": "stdout",
     "output_type": "stream",
     "text": [
      "If prompted, please solve the CAPTCHA and press Enter to continue... \n"
     ]
    },
    {
     "name": "stdout",
     "output_type": "stream",
     "text": [
      "Found URL: https://www.bbb.org/us/wa/renton/profile/payday-loans/moneytree-inc-1296-1000022624\n",
      "Found URL: https://www.bbb.org/us/wa/renton/profile/payday-loans/moneytree-inc-1296-1000022624\n",
      "Found URL: https://www.bbb.org/us/nv/henderson/profile/payday-loans/moneytree-inc-1086-56766?addressId=6219\n",
      "Found URL: https://www.bbb.org/us/wa/renton/profile/payday-loans/moneytree-inc-1296-1000022624\n",
      "Found URL: https://www.bbb.org/us/wa/renton/profile/payday-loans/moneytree-inc-1296-1000022624\n",
      "Found URL: https://www.bbb.org/us/nv/las-vegas/profile/payday-loans/moneytree-inc-1086-56766?addressId=6224\n",
      "Found URL: https://www.bbb.org/us/wa/renton/profile/payday-loans/moneytree-inc-1296-1000022624\n",
      "Found URL: https://www.bbb.org/us/wa/renton/profile/payday-loans/moneytree-inc-1296-1000022624\n",
      "Found URL: https://www.bbb.org/us/wa/renton/profile/payday-loans/moneytree-inc-1296-1000022624\n",
      "Found URL: https://www.bbb.org/us/wa/renton/profile/payday-loans/moneytree-inc-1296-1000022624\n",
      "Found URL: https://www.bbb.org/us/nv/north-las-vegas/profile/payday-loans/moneytree-inc-1086-56766?addressId=6218\n",
      "Found URL: https://www.bbb.org/us/wa/renton/profile/payday-loans/moneytree-inc-1296-1000022624\n",
      "Found URL: https://www.bbb.org/us/wa/renton/profile/payday-loans/moneytree-inc-1296-1000022624\n",
      "Found URL: https://www.bbb.org/us/wa/renton/profile/payday-loans/moneytree-inc-1296-1000022624\n",
      "Found URL: https://www.bbb.org/us/nv/las-vegas/profile/payday-loans/moneytree-inc-1086-56766?addressId=6217\n",
      "Found URL: https://www.bbb.org/us/wa/renton/profile/payday-loans/moneytree-inc-1296-1000022624\n",
      "Found URL: https://www.bbb.org/us/wa/renton/profile/payday-loans/moneytree-inc-1296-1000022624\n",
      "Found URL: https://www.bbb.org/us/wa/renton/profile/payday-loans/moneytree-inc-1296-1000022624\n",
      "Found URL: https://www.bbb.org/us/nm/albuquerque/profile/payday-loans/checkmate-0806-42253\n",
      "Accessing page: https://www.bbb.org/us/category/payday-loans?page=5\n"
     ]
    },
    {
     "name": "stdout",
     "output_type": "stream",
     "text": [
      "If prompted, please solve the CAPTCHA and press Enter to continue... \n"
     ]
    },
    {
     "name": "stdout",
     "output_type": "stream",
     "text": [
      "Found URL: https://www.bbb.org/us/il/deerfield/profile/payday-loans/title-lenders-inc-0654-88351450\n",
      "Found URL: https://www.bbb.org/us/il/deerfield/profile/payday-loans/title-lenders-inc-0654-88351450\n",
      "Found URL: https://www.bbb.org/us/wa/richland/profile/credit-union/hapo-community-credit-union-1296-59000295\n",
      "Found URL: https://www.bbb.org/us/wa/richland/profile/credit-union/hapo-community-credit-union-1296-59000295\n",
      "Found URL: https://www.bbb.org/us/wa/richland/profile/credit-union/hapo-community-credit-union-1296-59000295\n",
      "Found URL: https://www.bbb.org/us/wa/richland/profile/credit-union/hapo-community-credit-union-1296-59000295\n",
      "Found URL: https://www.bbb.org/us/az/tempe/profile/check-cashing-services/dollar-financial-group-1126-3002360\n",
      "Found URL: https://www.bbb.org/us/wa/federal-way/profile/payday-loans/national-payday-loan-service-1296-90005484\n",
      "Found URL: https://www.bbb.org/us/ca/santa-rosa/profile/payday-loans/morin-consolidating-services-1116-874327\n",
      "Found URL: https://www.bbb.org/us/nj/pine-brook/profile/sales-lead-generation/coinage-lenders-0221-90175944\n",
      "Found URL: https://www.bbb.org/us/az/phoenix/profile/payday-loans/ez-payday-cash-1126-1000023103\n",
      "Found URL: https://www.bbb.org/us/ut/provo/profile/payday-loans/alpine-loan-center-1296-1000014013\n",
      "Found URL: https://www.bbb.org/us/ut/provo/profile/payday-loans/alpine-loan-center-1296-1000014013\n",
      "Found URL: https://www.bbb.org/us/id/fruitland/profile/payday-loans/xpress-cash-1296-1000016560\n",
      "Found URL: https://www.bbb.org/us/or/portland/profile/payday-loans/cash-connection-1296-59000424\n",
      "Accessing page: https://www.bbb.org/us/category/payday-loans?page=6\n"
     ]
    },
    {
     "name": "stdout",
     "output_type": "stream",
     "text": [
      "If prompted, please solve the CAPTCHA and press Enter to continue... \n"
     ]
    },
    {
     "name": "stdout",
     "output_type": "stream",
     "text": [
      "Found URL: https://www.bbb.org/us/ut/salt-lake-city/profile/loans/chekline-inc-1166-2006603\n",
      "Found URL: https://www.bbb.org/us/ut/salt-lake-city/profile/loans/chekline-inc-1166-2006603\n",
      "Found URL: https://www.bbb.org/us/ut/salt-lake-city/profile/payday-loans/ezpaydaycash-1166-18000920\n",
      "Found URL: https://www.bbb.org/us/ut/midvale/profile/payday-loans/cash-4-you-1166-18000562\n",
      "Found URL: https://www.bbb.org/us/ut/tremonton/profile/title-agent/ready-money-1166-22008442\n",
      "Found URL: https://www.bbb.org/us/ut/orem/profile/check-cashing-services/solucion-hispana-1166-22172758\n",
      "Found URL: https://www.bbb.org/us/ut/salt-lake-city/profile/payday-loans/the-resource-center-1166-22213680\n",
      "Found URL: https://www.bbb.org/us/ut/layton/profile/check-cashing-services/check-into-cash-1166-22220518\n",
      "Found URL: https://www.bbb.org/us/ut/salt-lake-city/profile/payday-loans/money-train-title-loans-llc-1166-22222040\n",
      "Found URL: https://www.bbb.org/us/ut/salt-lake-city/profile/payday-loans/money-train-title-loans-llc-1166-22222040\n",
      "Found URL: https://www.bbb.org/us/ut/salt-lake-city/profile/payday-loans/money-train-title-loans-llc-1166-22222040\n",
      "Found URL: https://www.bbb.org/us/ut/salt-lake-city/profile/payday-loans/money-train-title-loans-llc-1166-22222040\n",
      "Found URL: https://www.bbb.org/us/wi/marinette/profile/payday-loans/ready-money-0694-1000027876\n",
      "Found URL: https://www.bbb.org/us/il/des-plaines/profile/payday-loans/americash-loans-llc-0654-28003262\n",
      "Found URL: https://www.bbb.org/us/tx/buda/profile/payday-loans/approved-money-center-0825-1000100894\n",
      "Accessing page: https://www.bbb.org/us/category/payday-loans?page=7\n"
     ]
    },
    {
     "name": "stdout",
     "output_type": "stream",
     "text": [
      "If prompted, please solve the CAPTCHA and press Enter to continue... \n"
     ]
    },
    {
     "name": "stdout",
     "output_type": "stream",
     "text": [
      "Found URL: https://www.bbb.org/us/tx/buda/profile/payday-loans/approved-money-center-0825-1000100894\n",
      "Found URL: https://www.bbb.org/us/tx/buda/profile/payday-loans/approved-money-center-0825-1000100894\n",
      "Found URL: https://www.bbb.org/us/tx/buda/profile/payday-loans/approved-money-center-0825-1000100894\n",
      "Found URL: https://www.bbb.org/us/tx/buda/profile/payday-loans/approved-money-center-0825-1000100894\n",
      "Found URL: https://www.bbb.org/us/il/des-plaines/profile/payday-loans/americash-loans-llc-0654-28003262\n",
      "Found URL: https://www.bbb.org/us/hi/pukalani/profile/payday-loans/ritel-1296-53072045\n",
      "Found URL: https://www.bbb.org/us/la/harvey/profile/payday-loans/express-payday-loan-0985-90011726\n",
      "Found URL: https://www.bbb.org/us/ny/new-york/profile/payday-loans/clearworth-financial-0121-163633\n",
      "Found URL: https://www.bbb.org/us/mt/box-elder/profile/payday-loans/splash-cash-advance-1296-1000004922\n",
      "Found URL: https://www.bbb.org/us/mt/box-elder/profile/payday-loans/bear-paw-cash-llc-1296-1000025084\n",
      "Found URL: https://www.bbb.org/us/tx/hurst/profile/payday-loans/the-cash-store-0825-162106921\n",
      "Found URL: https://www.bbb.org/us/tx/hurst/profile/payday-loans/the-cash-store-0825-162106921/details\n",
      "Found URL: https://www.bbb.org/us/wa/east-wenatchee/profile/payday-loans/red-e-cash-1296-64072753\n",
      "Found URL: https://www.bbb.org/us/wa/airway-hgts/profile/payday-loans/cash-express-1296-64127642\n",
      "Found URL: https://www.bbb.org/us/mt/box-elder/profile/payday-loans/city-view-cash-1296-64198920\n",
      "Found URL: https://www.bbb.org/us/wa/deer-park/profile/payday-loans/ccs-payday-loan-1296-1000002555\n",
      "Accessing page: https://www.bbb.org/us/category/payday-loans?page=8\n"
     ]
    },
    {
     "name": "stdout",
     "output_type": "stream",
     "text": [
      "If prompted, please solve the CAPTCHA and press Enter to continue... \n"
     ]
    },
    {
     "name": "stdout",
     "output_type": "stream",
     "text": [
      "Found URL: https://www.bbb.org/us/nv/carson-city/profile/check-cashing-services/moneytree-inc-1166-10000416\n",
      "Found URL: https://www.bbb.org/us/nv/carson-city/profile/check-cashing-services/moneytree-inc-1166-10000416\n",
      "Found URL: https://www.bbb.org/us/nv/carson-city/profile/check-cashing-services/moneytree-inc-1166-10000416\n",
      "Found URL: https://www.bbb.org/us/nv/carson-city/profile/check-cashing-services/moneytree-inc-1166-10000416\n",
      "Found URL: https://www.bbb.org/us/wi/madison/profile/payday-loans/payday-sunny-0694-1000030251\n",
      "Found URL: https://www.bbb.org/us/la/raceland/profile/payday-loans/us-cash-outlet-inc-0985-90019247\n",
      "Found URL: https://www.bbb.org/us/ut/lehi/profile/check-cashing-services/cashtree-llc-1166-22013721\n",
      "Found URL: https://www.bbb.org/us/ut/salt-lake-city/profile/payday-loans/ez-cash-1166-22027911\n",
      "Found URL: https://www.bbb.org/us/ut/salt-lake-city/profile/payday-loans/the-resource-center-1166-22213680\n",
      "Found URL: https://www.bbb.org/us/ut/layton/profile/payday-loans/island-day-llc-1166-22214402\n",
      "Found URL: https://www.bbb.org/us/ut/midvale/profile/check-cashing-services/cash-n-dash-1166-22215463\n",
      "Found URL: https://www.bbb.org/us/ut/provo/profile/payday-loans/247advancescom-1166-22219202\n",
      "Found URL: https://www.bbb.org/us/ut/ogden/profile/payday-loans/usa-cash-services-management-inc-1166-3070274\n",
      "Found URL: https://www.bbb.org/us/nv/carson-city/profile/payday-loans/sun-credit-1166-90022372\n",
      "Found URL: https://www.bbb.org/us/nv/reno/profile/payday-loans/alpine-direct-services-1166-90010693\n",
      "Accessing page: https://www.bbb.org/us/category/payday-loans?page=9\n"
     ]
    },
    {
     "name": "stdout",
     "output_type": "stream",
     "text": [
      "If prompted, please solve the CAPTCHA and press Enter to continue... \n"
     ]
    },
    {
     "name": "stdout",
     "output_type": "stream",
     "text": [
      "Found URL: https://www.bbb.org/us/ut/salt-lake-city/profile/loans/chekline-inc-1166-2006603\n",
      "Found URL: https://www.bbb.org/us/ut/tooele/profile/check-cashing-services/checkpoint-one-1166-4000531\n",
      "Found URL: https://www.bbb.org/us/ca/santa-ana/profile/check-cashing-services/continental-currency-services-inc-1126-29003822\n",
      "Found URL: https://www.bbb.org/us/ca/santa-ana/profile/check-cashing-services/continental-currency-services-inc-1126-29003822\n",
      "Found URL: https://www.bbb.org/us/il/alton/profile/payday-loans/a-a-a-cash-loans-inc-0734-310031684\n",
      "Found URL: https://www.bbb.org/us/mo/jackson/profile/payday-loans/cash-depot-0734-310040322\n",
      "Found URL: https://www.bbb.org/us/mo/camdenton/profile/payday-loans/a-plus-cash-advance-0734-310107488\n",
      "Found URL: https://www.bbb.org/us/mo/poplar-bluff/profile/consumer-finance-companies/cash-country-0734-310245538\n",
      "Found URL: https://www.bbb.org/us/mo/cape-girardeau/profile/payday-loans/cash-depot-0734-310026102\n",
      "Found URL: https://www.bbb.org/us/mo/springfield/profile/payday-loans/a-a-a-payday-advance-0734-12576\n",
      "Found URL: https://www.bbb.org/us/mo/springfield/profile/pawnbroker/b-t-pawn-0734-12578\n",
      "Found URL: https://www.bbb.org/us/ok/oklahoma-city/profile/payday-loans/quick-loans-oklahoma-0995-90054577\n",
      "Found URL: https://www.bbb.org/us/tx/victoria/profile/payday-loans/approved-money-center-0825-90113437\n",
      "Found URL: https://www.bbb.org/us/tx/austin/profile/payday-loans/easy-lending-solutions-llc-0825-1000106511\n",
      "Found URL: https://www.bbb.org/us/mo/florissant/profile/mortgage-lenders/st-louis-title-loan-0734-110206379\n",
      "Accessing page: https://www.bbb.org/us/category/payday-loans?page=10\n"
     ]
    },
    {
     "name": "stdout",
     "output_type": "stream",
     "text": [
      "If prompted, please solve the CAPTCHA and press Enter to continue... \n"
     ]
    },
    {
     "name": "stdout",
     "output_type": "stream",
     "text": [
      "Found URL: https://www.bbb.org/us/mo/florissant/profile/mortgage-lenders/st-louis-title-loan-0734-110206379\n",
      "Found URL: https://www.bbb.org/us/il/centralia/profile/loans/cash-store-0734-110209681\n",
      "Found URL: https://www.bbb.org/us/il/highland/profile/payday-loans/highland-quick-cash-0734-310012302\n",
      "Found URL: https://www.bbb.org/us/il/highland/profile/payday-loans/highland-quick-cash-0734-310012302\n",
      "Found URL: https://www.bbb.org/us/mo/springfield/profile/payday-loans/quik-cash-0734-20078\n",
      "Found URL: https://www.bbb.org/us/mo/thayer/profile/payday-loans/a-a-loans-of-thayer-llc-0734-25225\n",
      "Found URL: https://www.bbb.org/us/mo/springfield/profile/payday-loans/cash-country-0734-28572\n",
      "Found URL: https://www.bbb.org/us/mo/branson/profile/payday-loans/branson-quick-cash-0734-27912\n",
      "Found URL: https://www.bbb.org/us/mo/springfield/profile/payday-loans/rapid-cash-advance-0734-31593\n",
      "Found URL: https://www.bbb.org/us/mo/west-plains/profile/payday-loans/express-lending-source-0734-32577\n",
      "Found URL: https://www.bbb.org/us/mo/nixa/profile/payday-loans/premier-buffalo-farms-llc-0734-33132\n",
      "Found URL: https://www.bbb.org/us/mo/marshfield/profile/payday-loans/hm-check-cashing-and-payday-loan-0734-42987\n",
      "Found URL: https://www.bbb.org/us/mo/joplin/profile/used-car-dealers/32nd-street-buy-here-pay-here-0734-45757\n",
      "Found URL: https://www.bbb.org/us/or/portland/profile/payday-loans/premier-membership-clubs-1296-22673337\n",
      "Found URL: https://www.bbb.org/us/il/chicago/profile/payday-loans/paydayloanusaonlinecom-1296-22679350\n",
      "Accessing page: https://www.bbb.org/us/category/payday-loans?page=11\n"
     ]
    },
    {
     "name": "stdout",
     "output_type": "stream",
     "text": [
      "If prompted, please solve the CAPTCHA and press Enter to continue... \n"
     ]
    },
    {
     "name": "stdout",
     "output_type": "stream",
     "text": [
      "Found URL: https://www.bbb.org/us/il/chicago/profile/payday-loans/paydayloanusaonlinecom-1296-22679350\n",
      "Found URL: https://www.bbb.org/us/az/mesa/profile/payday-loans/payday-loan-store-of-arizona-1126-1000000906\n",
      "Found URL: https://www.bbb.org/us/az/phoenix/profile/payday-loans/instantpaydayusacom-1126-1000002642\n",
      "Found URL: https://www.bbb.org/us/az/scottsdale/profile/payday-loans/lr-group-llc-1126-1000007221\n",
      "Found URL: https://www.bbb.org/us/az/phoenix/profile/payday-loans/cashmart-llc-1126-1000007719\n",
      "Found URL: https://www.bbb.org/us/az/apache-jct/profile/title-loans/ezee-title-loans-1126-1000008049\n",
      "Found URL: https://www.bbb.org/us/az/tempe/profile/payday-loans/cash-plus-1126-1000012498\n",
      "Found URL: https://www.bbb.org/us/az/scottsdale/profile/sales-lead-generation/blue-global-media-1126-1000016699\n",
      "Found URL: https://www.bbb.org/us/ak/anchorage/profile/payday-loans/moneyworks-inc-1296-22022930\n",
      "Found URL: https://www.bbb.org/us/ak/fairbanks/profile/payday-loans/advance-til-payday-1296-22030886\n",
      "Found URL: https://www.bbb.org/us/wa/edmonds/profile/loans/mikes-cash-tree-1296-22037402\n",
      "Found URL: https://www.bbb.org/us/ak/fairbanks/profile/credit-union/spirit-of-alaska-federal-credit-union-1296-22052351\n",
      "Found URL: https://www.bbb.org/us/ca/kelseyville/profile/check-cashing-services/cash-advance-1116-363385\n",
      "Found URL: https://www.bbb.org/us/ca/stockton/profile/payday-loans/payroll-loans-1156-90003467\n",
      "Found URL: https://www.bbb.org/us/ca/folsom/profile/payday-loans/ttg-services-llc-1156-90016843\n",
      "Accessing page: https://www.bbb.org/us/category/payday-loans?page=12\n"
     ]
    },
    {
     "name": "stdout",
     "output_type": "stream",
     "text": [
      "If prompted, please solve the CAPTCHA and press Enter to continue... \n"
     ]
    },
    {
     "name": "stdout",
     "output_type": "stream",
     "text": [
      "Found URL: https://www.bbb.org/us/ca/finley/profile/payday-loans/great-eagle-lending-1116-450542\n",
      "Found URL: https://www.bbb.org/us/ca/arcata/profile/loans/clear-loan-solution-1116-456028\n",
      "Found URL: https://www.bbb.org/us/ca/san-francisco/profile/payday-loans/golden-gate-pay-day-1116-541539\n",
      "Found URL: https://www.bbb.org/us/wa/seattle/profile/payday-loans/loan-zone-1296-22171672\n",
      "Found URL: https://www.bbb.org/us/wa/shelton/profile/payday-loans/money-depot-1296-22202629\n",
      "Found URL: https://www.bbb.org/us/tx/buda/profile/payday-loans/approved-money-center-0825-1000100894\n",
      "Found URL: https://www.bbb.org/us/tx/buda/profile/payday-loans/approved-money-center-0825-1000100894\n",
      "Found URL: https://www.bbb.org/us/tx/buda/profile/payday-loans/approved-money-center-0825-1000100894\n",
      "Found URL: https://www.bbb.org/us/tx/buda/profile/payday-loans/approved-money-center-0825-1000100894\n",
      "Found URL: https://www.bbb.org/us/mo/jefferson-city/profile/credit-services/a-plus-cash-advance-0734-310257596\n",
      "Found URL: https://www.bbb.org/us/mo/saint-louis/profile/loans/title-loan-co-0734-310284255\n",
      "Found URL: https://www.bbb.org/us/mo/saint-louis/profile/loans/title-loan-co-0734-310284255\n",
      "Found URL: https://www.bbb.org/us/il/mount-vernon/profile/payday-loans/cash-store-0734-310329131\n",
      "Found URL: https://www.bbb.org/us/mo/saint-louis/profile/consumer-finance-companies/loan-express-0734-310415103\n",
      "Found URL: https://www.bbb.org/us/il/carbondale/profile/payday-loans/cash-store-0734-310446028\n",
      "Accessing page: https://www.bbb.org/us/category/payday-loans?page=13\n"
     ]
    },
    {
     "name": "stdout",
     "output_type": "stream",
     "text": [
      "If prompted, please solve the CAPTCHA and press Enter to continue... \n"
     ]
    },
    {
     "name": "stdout",
     "output_type": "stream",
     "text": [
      "Found URL: https://www.bbb.org/us/mo/fredericktown/profile/payday-loans/lendnation-0734-310617281\n",
      "Found URL: https://www.bbb.org/us/mo/saint-peters/profile/payday-loans/missouri-payday-loan-0734-1000001620\n",
      "Found URL: https://www.bbb.org/us/mn/bloomington/profile/payday-loans/neighborhood-financial-services-inc-0704-1000016599\n",
      "Found URL: https://www.bbb.org/us/wa/tacoma/profile/payday-loans/qwik-cash-loans-1296-22783279\n",
      "Found URL: https://www.bbb.org/us/wa/seattle/profile/payday-loans/payday-advance-loans-us-1296-22505041\n",
      "Found URL: https://www.bbb.org/us/wa/puyallup/profile/payday-loans/allied-cash-advance-1296-22512449\n",
      "Found URL: https://www.bbb.org/us/wa/seattle/profile/payday-loans/fast-loans-services-1296-22689903\n",
      "Found URL: https://www.bbb.org/us/wa/longview/profile/payday-loans/american-payday-loan-1296-22725908\n",
      "Found URL: https://www.bbb.org/us/ak/minto/profile/payday-loans/minto-money-1296-1000080311\n",
      "Found URL: https://www.bbb.org/us/il/chicago/profile/tax-return-preparation/expedient-tax-inc-0654-90031997\n",
      "Found URL: https://www.bbb.org/us/il/chicago/profile/payday-loans/union-cash-upgrade-unlimited-0654-1000012115\n",
      "Found URL: https://www.bbb.org/us/tx/pharr/profile/payday-loans/vin-title-llc-dba-discount-title-loan-0915-90059259\n",
      "Found URL: https://www.bbb.org/us/tx/austin/profile/payday-loans/arizonapersonalloanscom-0825-1000104935\n",
      "Found URL: https://www.bbb.org/us/tx/austin/profile/payday-loans/arizonapersonalloanscom-0825-1000104935/details\n",
      "Found URL: https://www.bbb.org/us/oh/lancaster/profile/payday-loans/financial-service-centers-of-ohio-llc-0302-70095267\n",
      "Found URL: https://www.bbb.org/us/oh/lancaster/profile/payday-loans/financial-service-centers-of-ohio-llc-0302-70095267\n",
      "Accessing page: https://www.bbb.org/us/category/payday-loans?page=14\n"
     ]
    },
    {
     "name": "stdout",
     "output_type": "stream",
     "text": [
      "If prompted, please solve the CAPTCHA and press Enter to continue... \n"
     ]
    },
    {
     "name": "stdout",
     "output_type": "stream",
     "text": [
      "Found URL: https://www.bbb.org/us/oh/lancaster/profile/payday-loans/financial-service-centers-of-ohio-llc-0302-70095267\n",
      "Found URL: https://www.bbb.org/us/oh/lancaster/profile/payday-loans/financial-service-centers-of-ohio-llc-0302-70095267\n",
      "Found URL: https://www.bbb.org/us/oh/lancaster/profile/payday-loans/financial-service-centers-of-ohio-llc-0302-70095267\n",
      "Found URL: https://www.bbb.org/us/wa/spokane-valley/profile/payday-loans/personal-money-store-1296-1000035602\n",
      "Found URL: https://www.bbb.org/us/tx/austin/profile/payday-loans/cash-advance-usa-0825-1000104141\n",
      "Found URL: https://www.bbb.org/us/il/montgomery/profile/payday-loans/short-term-loans-llc-oswegomontgomery-0654-90009246\n",
      "Found URL: https://www.bbb.org/us/mt/bozeman/profile/title-loans/title-cash-of-bozeman-1296-64197557\n",
      "Found URL: https://www.bbb.org/us/id/lewiston/profile/payday-loans/ezmoney-payday-loans-1296-1000000393\n",
      "Found URL: https://www.bbb.org/us/wa/vancouver/profile/payday-loans/evergreen-payee-service-1296-1000033011\n",
      "Found URL: https://www.bbb.org/us/ca/sacramento/profile/advance-fee-brokers/24bizbiz-1156-90025065\n",
      "Found URL: https://www.bbb.org/us/pa/pittsburgh/profile/payday-loans/pittsburgh-payday-loan-solution-0141-71024609\n",
      "Found URL: https://www.bbb.org/us/oh/north-olmsted/profile/payday-loans/first-american-loans-0312-92016935\n",
      "Found URL: https://www.bbb.org/us/ms/kosciusko/profile/payday-loans/kosciusko-check-delay-0523-235831947\n",
      "Found URL: https://www.bbb.org/us/ny/new-york/profile/workathome-companies/union-holmes-savings-and-loan-0121-163010\n",
      "Found URL: https://www.bbb.org/us/mt/box-elder/profile/payday-loans/splash-cash-advance-1296-1000004922\n",
      "Accessing page: https://www.bbb.org/us/category/payday-loans?page=15\n"
     ]
    },
    {
     "name": "stdout",
     "output_type": "stream",
     "text": [
      "If prompted, please solve the CAPTCHA and press Enter to continue... \n"
     ]
    },
    {
     "name": "stdout",
     "output_type": "stream",
     "text": [
      "Found URL: https://www.bbb.org/us/wa/spokane/profile/payday-loans/american-payday-direct-1296-1000025568\n",
      "Found URL: https://www.bbb.org/us/mt/box-elder/profile/payday-loans/bear-paw-cash-llc-1296-1000025084\n",
      "Found URL: https://www.bbb.org/us/pa/pittsburgh/profile/payday-loans/samedaypayday-0141-71023865\n",
      "Found URL: https://www.bbb.org/us/mo/bonne-terre/profile/convenience-store/cheap-smokes-and-loans-0734-1000028472\n",
      "Found URL: https://www.bbb.org/us/tx/corsicana/profile/payday-loans/the-loan-depot-0825-1000100321\n",
      "Found URL: https://www.bbb.org/us/in/indianapolis/profile/payday-loans/ace-cash-express-0382-90022244\n",
      "Found URL: https://www.bbb.org/us/il/des-plaines/profile/payday-loans/americash-loans-llc-0654-28003262\n",
      "Found URL: https://www.bbb.org/us/il/des-plaines/profile/payday-loans/americash-loans-llc-0654-28003262\n",
      "Found URL: https://www.bbb.org/us/il/des-plaines/profile/payday-loans/americash-loans-llc-0654-28003262\n",
      "Found URL: https://www.bbb.org/us/ca/san-diego/profile/check-cashing-services/moneytree-1126-1037378\n",
      "Found URL: https://www.bbb.org/us/ca/san-diego/profile/check-cashing-services/moneytree-1126-1037378\n",
      "Found URL: https://www.bbb.org/us/ca/san-diego/profile/check-cashing-services/moneytree-1126-1037378\n",
      "Found URL: https://www.bbb.org/us/ca/anaheim/profile/check-cashing-services/payday-money-centers-1126-28001308\n",
      "Found URL: https://www.bbb.org/us/ca/anaheim/profile/check-cashing-services/payday-money-centers-1126-28001308\n",
      "Found URL: https://www.bbb.org/us/ca/anaheim/profile/check-cashing-services/payday-money-centers-1126-28001308\n",
      "Total firm URLs collected: 231\n",
      "URLs saved to firm_urls.csv\n"
     ]
    }
   ],
   "source": [
    "from selenium import webdriver\n",
    "from bs4 import BeautifulSoup\n",
    "import time\n",
    "import csv\n",
    "\n",
    "# Set up the Selenium WebDriver\n",
    "driver = webdriver.Chrome()\n",
    "\n",
    "def get_firm_urls(page_url):\n",
    "    \"\"\"\n",
    "    Fetches all firm URLs from a given page using Selenium to handle CAPTCHA and dynamic content.\n",
    "    \"\"\"\n",
    "    driver.get(page_url)\n",
    "    print(f\"Accessing page: {page_url}\")\n",
    "    \n",
    "    # Wait for user to solve CAPTCHA manually, if prompted (just press enter when the security thing pops up)\n",
    "    input(\"If prompted, please solve the CAPTCHA and press Enter to continue...\")\n",
    "    time.sleep(5)  # Allow some additional time for the page to fully load\n",
    "\n",
    "    # Parse the rendered page with BeautifulSoup\n",
    "    soup = BeautifulSoup(driver.page_source, 'html.parser')\n",
    "\n",
    "    firm_urls = []\n",
    "    for link in soup.find_all('a', href=True):\n",
    "        if '/profile/' in link['href']:  # Adjust pattern as necessary for the specific structure\n",
    "            full_url = 'https://www.bbb.org' + link['href']\n",
    "            print(f\"Found URL: {full_url}\")  # Debugging output to verify URLs\n",
    "            firm_urls.append(full_url)\n",
    "    return firm_urls\n",
    "\n",
    "# Main Scraping Loop\n",
    "base_url = 'https://www.bbb.org/us/category/payday-loans?page='\n",
    "all_firm_urls = []\n",
    "\n",
    "for page in range(1, 16):  # Loop through pages 1 to 15\n",
    "    page_url = base_url + str(page)\n",
    "    firm_urls = get_firm_urls(page_url)\n",
    "    all_firm_urls.extend(firm_urls)\n",
    "    time.sleep(2)  # Additional delay between page requests\n",
    "\n",
    "# Save URLs to a CSV file\n",
    "csv_filename = 'firm_urls.csv'\n",
    "with open(csv_filename, mode='w', newline='') as file:\n",
    "    writer = csv.writer(file)\n",
    "    writer.writerow(['Firm URL'])  # Header row\n",
    "    for url in all_firm_urls:\n",
    "        writer.writerow([url])\n",
    "\n",
    "print(f\"Total firm URLs collected: {len(all_firm_urls)}\")\n",
    "print(f\"URLs saved to {csv_filename}\")\n",
    "\n",
    "# Close the WebDriver when done\n",
    "driver.quit()\n"
   ]
  }
 ],
 "metadata": {
  "kernelspec": {
   "display_name": "Python 3 (ipykernel)",
   "language": "python",
   "name": "python3"
  },
  "language_info": {
   "codemirror_mode": {
    "name": "ipython",
    "version": 3
   },
   "file_extension": ".py",
   "mimetype": "text/x-python",
   "name": "python",
   "nbconvert_exporter": "python",
   "pygments_lexer": "ipython3",
   "version": "3.11.7"
  }
 },
 "nbformat": 4,
 "nbformat_minor": 5
}
