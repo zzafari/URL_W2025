{
 "cells": [
  {
   "cell_type": "markdown",
   "id": "dc43f39a-e148-474a-b3ea-9de607326db7",
   "metadata": {},
   "source": [
    "Zorah Zafari\n",
    "scraping rates data from a table in : https://www.paydaysunny.com/rates-and-fees.html"
   ]
  },
  {
   "cell_type": "code",
   "execution_count": 9,
   "id": "022d2b06-8884-436d-8208-f86c36e25ca9",
   "metadata": {
    "tags": []
   },
   "outputs": [
    {
     "name": "stdout",
     "output_type": "stream",
     "text": [
      "Data successfully scraped and saved to 'rates_and_fees.csv'.\n"
     ]
    }
   ],
   "source": [
    "import requests\n",
    "from bs4 import BeautifulSoup\n",
    "import pandas as pd\n",
    "\n",
    "# URL of the webpage\n",
    "url = \"https://www.paydaysunny.com/rates-and-fees.html\"\n",
    "\n",
    "# Send a GET request to the URL\n",
    "response = requests.get(url)\n",
    "\n",
    "# Check if the request was successful\n",
    "if response.status_code == 200:\n",
    "    # Parse the HTML content of the page\n",
    "    soup = BeautifulSoup(response.text, 'html.parser')\n",
    "\n",
    "    # Find the table with the class \"rates-table\"\n",
    "    table = soup.find('table', class_='rates-table')\n",
    "\n",
    "    if table:\n",
    "        # Extract table headers\n",
    "        headers = [header.text.strip() for header in table.find_all('th')]\n",
    "\n",
    "        # Extract table rows\n",
    "        rows = []\n",
    "        for row in table.find_all('tr')[1:]:  # Skip the header row\n",
    "            cells = row.find_all('td')\n",
    "            row_data = [cell.text.strip() for cell in cells]\n",
    "            rows.append(row_data)\n",
    "\n",
    "        # Create a DataFrame\n",
    "        df = pd.DataFrame(rows, columns=headers)\n",
    "\n",
    "        # Save the data to a CSV file\n",
    "        df.to_csv('paydaysunny_rates_and_fees.csv', index=False)\n",
    "        print(\"Data successfully scraped and saved to 'rates_and_fees.csv'.\")\n",
    "    else:\n",
    "        print(\"Could not find the table with the class 'rates-table'.\")\n",
    "else:\n",
    "    print(f\"Failed to fetch the webpage. Status code: {response.status_code}\")\n"
   ]
  },
  {
   "cell_type": "code",
   "execution_count": null,
   "id": "a19016cc-a108-4e0a-a577-996ac3845292",
   "metadata": {},
   "outputs": [],
   "source": []
  }
 ],
 "metadata": {
  "kernelspec": {
   "display_name": "Python 3 (ipykernel)",
   "language": "python",
   "name": "python3"
  },
  "language_info": {
   "codemirror_mode": {
    "name": "ipython",
    "version": 3
   },
   "file_extension": ".py",
   "mimetype": "text/x-python",
   "name": "python",
   "nbconvert_exporter": "python",
   "pygments_lexer": "ipython3",
   "version": "3.11.7"
  }
 },
 "nbformat": 4,
 "nbformat_minor": 5
}
