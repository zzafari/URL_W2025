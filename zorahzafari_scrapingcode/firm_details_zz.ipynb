{
 "cells": [
  {
   "cell_type": "markdown",
   "id": "18f06a34-73c3-4730-ac6c-730a0356e3bb",
   "metadata": {},
   "source": [
    "### Author: Zorah Zafari \n",
    "### Date: 01/26/2025\n",
    "### This code opens each URL and scrapes data from each individual firm "
   ]
  },
  {
   "cell_type": "code",
   "execution_count": 2,
   "id": "c8f78c96-54eb-404a-8b71-a392abb9a0a6",
   "metadata": {
    "tags": []
   },
   "outputs": [
    {
     "ename": "ModuleNotFoundError",
     "evalue": "No module named 'selenium'",
     "output_type": "error",
     "traceback": [
      "\u001b[0;31m---------------------------------------------------------------------------\u001b[0m",
      "\u001b[0;31mModuleNotFoundError\u001b[0m                       Traceback (most recent call last)",
      "Cell \u001b[0;32mIn[2], line 1\u001b[0m\n\u001b[0;32m----> 1\u001b[0m \u001b[38;5;28;01mfrom\u001b[39;00m\u001b[38;5;250m \u001b[39m\u001b[38;5;21;01mselenium\u001b[39;00m\u001b[38;5;250m \u001b[39m\u001b[38;5;28;01mimport\u001b[39;00m webdriver\n\u001b[1;32m      2\u001b[0m \u001b[38;5;28;01mfrom\u001b[39;00m\u001b[38;5;250m \u001b[39m\u001b[38;5;21;01mbs4\u001b[39;00m\u001b[38;5;250m \u001b[39m\u001b[38;5;28;01mimport\u001b[39;00m BeautifulSoup\n\u001b[1;32m      3\u001b[0m \u001b[38;5;28;01mimport\u001b[39;00m\u001b[38;5;250m \u001b[39m\u001b[38;5;21;01mtime\u001b[39;00m\n",
      "\u001b[0;31mModuleNotFoundError\u001b[0m: No module named 'selenium'"
     ]
    }
   ],
   "source": [
    "from selenium import webdriver\n",
    "from bs4 import BeautifulSoup\n",
    "import time\n",
    "import csv\n",
    "\n",
    "# Set up the Selenium WebDriver\n",
    "driver = webdriver.Chrome()\n",
    "\n",
    "def get_firm_urls(page_url):\n",
    "    \"\"\"\n",
    "    Fetches all firm URLs from a given page using Selenium to handle CAPTCHA and dynamic content.\n",
    "    \"\"\"\n",
    "    driver.get(page_url)\n",
    "    print(f\"Accessing page: {page_url}\")\n",
    "    \n",
    "    # Wait for user to solve CAPTCHA manually, if prompted\n",
    "    input(\"If prompted, please solve the CAPTCHA and press Enter to continue...\")\n",
    "    time.sleep(5)  # Allow additional time for the page to fully load\n",
    "\n",
    "    # Parse the rendered page with BeautifulSoup\n",
    "    soup = BeautifulSoup(driver.page_source, 'html.parser')\n",
    "\n",
    "    firm_urls = []\n",
    "    for link in soup.find_all('a', href=True):\n",
    "        if '/profile/' in link['href']:  # Adjust pattern as necessary for the specific structure\n",
    "            full_url = 'https://www.bbb.org' + link['href']\n",
    "            print(f\"Found URL: {full_url}\")  # Debugging output to verify URLs\n",
    "            firm_urls.append(full_url)\n",
    "    return firm_urls\n",
    "\n",
    "def scrape_firm_details(firm_url):\n",
    "    \"\"\"\n",
    "    Extracts specific details from a firm's page.\n",
    "    \"\"\"\n",
    "    driver.get(firm_url)\n",
    "    print(f\"Scraping data from: {firm_url}\")\n",
    "    time.sleep(3)  # Allow time for the page to fully load\n",
    "\n",
    "    soup = BeautifulSoup(driver.page_source, 'html.parser')\n",
    "    try:\n",
    "        # Extract data based on the provided structure\n",
    "        name = soup.find('span', class_='bds-h2 bpr-header-business-name', id='businessName').text.strip() if soup.find('span', class_='bds-h2 bpr-header-business-name', id='businessName') else 'N/A'\n",
    "        address = ' '.join([p.text.strip() for p in soup.find('div', class_='bpr-overview-address').find_all('p', class_='bds-body')]) if soup.find('div', class_='bpr-overview-address') else 'N/A'\n",
    "        website = soup.find('a', href=True, rel='nofollow noreferrer')['href'] if soup.find('a', href=True, rel='nofollow noreferrer') else 'N/A'\n",
    "        business_started = soup.find('dt', text='Business Started Locally:').find_next_sibling('dd').text.strip() if soup.find('dt', text='Business Started Locally:') else 'N/A'\n",
    "        phone = soup.find('a', href=True, text=lambda x: x and x.startswith('(')).text.strip() if soup.find('a', href=True, text=lambda x: x and x.startswith('(')) else 'N/A'\n",
    "    except Exception as e:\n",
    "        print(f\"Error scraping details from {firm_url}: {e}\")\n",
    "        return {'URL': firm_url, 'Name': 'N/A', 'Address': 'N/A', 'Website': 'N/A', 'Business Started': 'N/A', 'Phone': 'N/A'}\n",
    "\n",
    "    return {'URL': firm_url, 'Name': name, 'Address': address, 'Website': website, 'Business Started': business_started, 'Phone': phone}\n",
    "\n",
    "# Main Scraping Loop\n",
    "base_url = 'https://www.bbb.org/us/category/payday-loans?page='\n",
    "all_firm_details = []\n",
    "\n",
    "for page in range(1, 16):  # Loop through pages 1 to 15\n",
    "    page_url = base_url + str(page)\n",
    "    firm_urls = get_firm_urls(page_url)\n",
    "\n",
    "    for firm_url in firm_urls:\n",
    "        details = scrape_firm_details(firm_url)\n",
    "        all_firm_details.append(details)\n",
    "        time.sleep(2)  # Delay between requests to each firm's page\n",
    "\n",
    "# Save extracted data to a CSV file\n",
    "csv_filename = 'firm_details.csv'\n",
    "with open(csv_filename, mode='w', newline='', encoding='utf-8') as file:\n",
    "    writer = csv.DictWriter(file, fieldnames=['URL', 'Name', 'Address', 'Website', 'Business Started', 'Phone'])\n",
    "    writer.writeheader()  # Write header row\n",
    "    writer.writerows(all_firm_details)  # Write rows of firm details\n",
    "\n",
    "print(f\"Total firms scraped: {len(all_firm_details)}\")\n",
    "print(f\"Details saved to {csv_filename}\")\n",
    "\n",
    "# Close the WebDriver when done\n",
    "driver.quit()\n"
   ]
  }
 ],
 "metadata": {
  "kernelspec": {
   "display_name": "Python 3",
   "language": "python",
   "name": "python3"
  },
  "language_info": {
   "codemirror_mode": {
    "name": "ipython",
    "version": 3
   },
   "file_extension": ".py",
   "mimetype": "text/x-python",
   "name": "python",
   "nbconvert_exporter": "python",
   "pygments_lexer": "ipython3",
   "version": "3.12.1"
  }
 },
 "nbformat": 4,
 "nbformat_minor": 5
}
